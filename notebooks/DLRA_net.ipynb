{
 "cells": [
  {
   "cell_type": "code",
   "execution_count": 1,
   "metadata": {
    "collapsed": false,
    "jupyter": {
     "outputs_hidden": false
    }
   },
   "outputs": [],
   "source": [
    "%matplotlib inline"
   ]
  },
  {
   "cell_type": "markdown",
   "metadata": {
    "tags": []
   },
   "source": [
    "\n",
    "`Learn the Basics <intro.html>`_ ||\n",
    "**Quickstart** ||\n",
    "`Tensors <tensorqs_tutorial.html>`_ ||\n",
    "`Datasets & DataLoaders <data_tutorial.html>`_ ||\n",
    "`Transforms <transforms_tutorial.html>`_ ||\n",
    "`Build Model <buildmodel_tutorial.html>`_ ||\n",
    "`Autograd <autogradqs_tutorial.html>`_ ||\n",
    "`Optimization <optimization_tutorial.html>`_ ||\n",
    "`Save & Load Model <saveloadrun_tutorial.html>`_\n",
    "\n",
    "Quickstart\n",
    "===================\n",
    "This section runs through the API for common tasks in machine learning. Refer to the links in each section to dive deeper.\n",
    "\n",
    "Working with data\n",
    "-----------------\n",
    "PyTorch has two `primitives to work with data <https://pytorch.org/docs/stable/data.html>`_:\n",
    "``torch.utils.data.DataLoader`` and ``torch.utils.data.Dataset``.\n",
    "``Dataset`` stores the samples and their corresponding labels, and ``DataLoader`` wraps an iterable around\n",
    "the ``Dataset``.\n",
    "\n",
    "\n"
   ]
  },
  {
   "cell_type": "code",
   "execution_count": 2,
   "metadata": {
    "collapsed": false,
    "jupyter": {
     "outputs_hidden": false
    }
   },
   "outputs": [],
   "source": [
    "import torch\n",
    "from torch import nn\n",
    "from torch.utils.data import DataLoader\n",
    "from torchvision import datasets\n",
    "from torchvision.transforms import ToTensor, Lambda, Compose\n",
    "import matplotlib.pyplot as plt\n",
    "import torch.nn.functional as F\n"
   ]
  },
  {
   "cell_type": "markdown",
   "metadata": {},
   "source": [
    "PyTorch offers domain-specific libraries such as `TorchText <https://pytorch.org/text/stable/index.html>`_,\n",
    "`TorchVision <https://pytorch.org/vision/stable/index.html>`_, and `TorchAudio <https://pytorch.org/audio/stable/index.html>`_,\n",
    "all of which include datasets. For this tutorial, we  will be using a TorchVision dataset.\n",
    "\n",
    "The ``torchvision.datasets`` module contains ``Dataset`` objects for many real-world vision data like\n",
    "CIFAR, COCO (`full list here <https://pytorch.org/vision/stable/datasets.html>`_). In this tutorial, we\n",
    "use the FashionMNIST dataset. Every TorchVision ``Dataset`` includes two arguments: ``transform`` and\n",
    "``target_transform`` to modify the samples and labels respectively.\n",
    "\n"
   ]
  },
  {
   "cell_type": "code",
   "execution_count": 3,
   "metadata": {
    "collapsed": false,
    "jupyter": {
     "outputs_hidden": false
    }
   },
   "outputs": [],
   "source": [
    "# Download training data from open datasets.\n",
    "training_data = datasets.MNIST(\n",
    "    root=\"data\",\n",
    "    train=True,\n",
    "    download=True,\n",
    "    transform=ToTensor(),\n",
    ")\n",
    "\n",
    "# Download test data from open datasets.\n",
    "test_data = datasets.MNIST(\n",
    "    root=\"data\",\n",
    "    train=False,\n",
    "    download=True,\n",
    "    transform=ToTensor(),\n",
    ")"
   ]
  },
  {
   "cell_type": "markdown",
   "metadata": {},
   "source": [
    "We pass the ``Dataset`` as an argument to ``DataLoader``. This wraps an iterable over our dataset, and supports\n",
    "automatic batching, sampling, shuffling and multiprocess data loading. Here we define a batch size of 64, i.e. each element\n",
    "in the dataloader iterable will return a batch of 64 features and labels.\n",
    "\n"
   ]
  },
  {
   "cell_type": "code",
   "execution_count": 4,
   "metadata": {
    "collapsed": false,
    "jupyter": {
     "outputs_hidden": false
    }
   },
   "outputs": [
    {
     "name": "stdout",
     "output_type": "stream",
     "text": [
      "Shape of X [N, C, H, W]:  torch.Size([64, 1, 28, 28])\n",
      "Shape of y:  torch.Size([64]) torch.int64\n"
     ]
    }
   ],
   "source": [
    "batch_size = 64\n",
    "\n",
    "# Create data loaders.\n",
    "train_dataloader = DataLoader(training_data, batch_size=batch_size)\n",
    "test_dataloader = DataLoader(test_data, batch_size=batch_size)\n",
    "\n",
    "for X, y in test_dataloader:\n",
    "    print(\"Shape of X [N, C, H, W]: \", X.shape)\n",
    "    print(\"Shape of y: \", y.shape, y.dtype)\n",
    "    break\n"
   ]
  },
  {
   "cell_type": "markdown",
   "metadata": {},
   "source": [
    "Read more about `loading data in PyTorch <data_tutorial.html>`_.\n",
    "\n",
    "\n"
   ]
  },
  {
   "cell_type": "markdown",
   "metadata": {},
   "source": [
    "--------------\n",
    "\n",
    "\n"
   ]
  },
  {
   "cell_type": "markdown",
   "metadata": {},
   "source": [
    "Creating Models\n",
    "------------------\n",
    "To define a neural network in PyTorch, we create a class that inherits\n",
    "from `nn.Module <https://pytorch.org/docs/stable/generated/torch.nn.Module.html>`_. We define the layers of the network\n",
    "in the ``__init__`` function and specify how data will pass through the network in the ``forward`` function. To accelerate\n",
    "operations in the neural network, we move it to the GPU if available.\n",
    "\n"
   ]
  },
  {
   "cell_type": "markdown",
   "metadata": {},
   "source": [
    "Read more about `building neural networks in PyTorch <buildmodel_tutorial.html>`_.\n",
    "\n",
    "\n"
   ]
  },
  {
   "cell_type": "markdown",
   "metadata": {},
   "source": [
    "--------------\n",
    "\n",
    "\n"
   ]
  },
  {
   "cell_type": "code",
   "execution_count": 5,
   "metadata": {},
   "outputs": [
    {
     "name": "stdout",
     "output_type": "stream",
     "text": [
      "1.7.1\n",
      "Using cpu device\n"
     ]
    }
   ],
   "source": [
    "import torch\n",
    "print(torch.__version__)\n",
    "# define the network\n",
    "# Get cpu or gpu device for training.\n",
    "device = \"cuda\" if torch.cuda.is_available() else \"cpu\"\n",
    "print(f\"Using {device} device\")\n",
    "\n",
    "class DLRANet(nn.Module):\n",
    "    weights_K:list[torch.Tensor]  # n1 x r\n",
    "    weights_Lt:list[torch.Tensor] # n2 x r\n",
    "    weights_S:list[torch.Tensor]  # r x r\n",
    "    aux_U:list[torch.Tensor]      # n1 x r\n",
    "    aux_Unp1:list[torch.Tensor]   # n1 x r\n",
    "    aux_Vt:list[torch.Tensor]     # r x n2\n",
    "    aux_Vtnp1:list[torch.Tensor]  # r x n2\n",
    "    aux_N:list[torch.Tensor]      # r x r\n",
    "    aux_M:list[torch.Tensor]      # r x r\n",
    "    biases:list[torch.Tensor]     # n2\n",
    "    num_layers:int \n",
    "    layer_width:int\n",
    "    \n",
    "    def __init__(self,input_dim:int,output_dim:int,layer_width:int,num_layers:int,low_rank:int=10):\n",
    "        self.num_layers = num_layers\n",
    "        self.layer_width = layer_width\n",
    "        # weight initialization\n",
    "        W = torch.rand(input_dim,layer_width)\n",
    "        W = W/torch.norm(W)\n",
    "        #print(W.size())\n",
    "        u, s, v = torch.svd(W)\n",
    "        #print(W)\n",
    "        #print(torch.mm(u,torch.mm(torch.diag(s),torch.transpose(v,0,1))))\n",
    "        #print(torch.mm(torch.narrow(u, 1, 0, low_rank),torch.mm(torch.narrow(torch.narrow(torch.diag(s), 0, 0, low_rank) , 1, 0, low_rank),torch.narrow(torch.transpose(v,0,1), 0, 0, low_rank))))\n",
    "        #print(torch.mm(torch.narrow(u, 1, 0, low_rank),torch.mm(torch.narrow(torch.narrow(torch.diag(s), 0, 0, low_rank) , 1, 0, low_rank),torch.narrow(torch.transpose(v,0,1), 0, 0, low_rank)))-W)\n",
    "        #print(u.size())\n",
    "        #print(s.size())\n",
    "        #print(v.size())\n",
    "        #t = torch.narrow(torch.narrow(torch.diag(s), 0, 0, low_rank) , 1, 0, low_rank)\n",
    "        #print(t)\n",
    "        vt=torch.transpose(v,0,1)\n",
    "        self.weights_K:list[torch.Tensor] = [torch.rand(input_dim,low_rank)]    # gets overwritten in K-step\n",
    "        self.weights_Lt:list[torch.Tensor] = [torch.rand(layer_width,low_rank)] # gets overwritten in L-step\n",
    "        self.weights_S:list[torch.Tensor] = [torch.narrow(torch.narrow(torch.diag(s), 0, 0, low_rank) , 1, 0, low_rank)]       # narrow to rxr\n",
    "        self.aux_U:list[torch.Tensor] = [torch.narrow(u, 1, 0, low_rank)]      # narrow to n2xr\n",
    "        self.aux_Unp1:list[torch.Tensor] = [torch.rand(input_dim,low_rank)]     # gets overwritten \n",
    "        self.aux_Vt:list[torch.Tensor] = [torch.narrow(vt, 0, 0, low_rank)]    # narrow to rxn1\n",
    "        self.aux_Vtnp1:list[torch.Tensor] = [torch.rand(low_rank,layer_width)]   # gets overwritten \n",
    "        self.aux_N:list[torch.Tensor] = [torch.rand(low_rank,low_rank)]  # gets overwritten \n",
    "        self.aux_M:list[torch.Tensor] = [torch.rand(low_rank,low_rank)]  # gets overwritten \n",
    "        self.biases:list[torch.Tensor] = [torch.rand(layer_width)]       \n",
    "        for i in range(1,num_layers-1):\n",
    "            # weight initialization\n",
    "            self.W = torch.rand(layer_width,layer_width)\n",
    "            self.W = self.W/torch.norm(self.W)\n",
    "            u, s, v = torch.svd(self.W)\n",
    "            vt=torch.transpose(v,0,1)\n",
    "            self.weights_K.append(torch.rand(layer_width,low_rank, requires_grad=True))\n",
    "            self.weights_Lt.append(torch.rand(layer_width,low_rank, requires_grad=True))\n",
    "            self.weights_S.append(torch.narrow(torch.narrow(torch.diag(s), 0, 0, low_rank) , 1, 0, low_rank))\n",
    "            self.aux_U.append(torch.narrow(u, 1, 0, low_rank))\n",
    "            self.aux_Unp1.append(torch.rand(layer_width,low_rank, requires_grad=False))\n",
    "            self.aux_Vt.append(torch.narrow(vt, 0, 0, low_rank))\n",
    "            self.aux_Vtnp1.append(torch.rand(low_rank,layer_width, requires_grad=False))\n",
    "            self.aux_N.append(torch.rand(low_rank,low_rank, requires_grad=False))\n",
    "            self.aux_M.append(torch.rand(low_rank,low_rank, requires_grad=False))\n",
    "            self.biases.append(torch.rand(layer_width, requires_grad=True))\n",
    "        W = torch.rand(layer_width,output_dim)\n",
    "        W = W/torch.norm(W)\n",
    "        u, s, v = torch.svd(W)\n",
    "        vt=torch.transpose(v,0,1)\n",
    "        self.weights_K.append(torch.rand(layer_width,low_rank, requires_grad=True))\n",
    "        self.weights_Lt.append(torch.rand(output_dim,low_rank, requires_grad=True))\n",
    "        self.weights_S.append(torch.narrow(torch.narrow(torch.diag(s), 0, 0, low_rank) , 1, 0, low_rank))\n",
    "        self.aux_U.append(torch.narrow(u, 1, 0, low_rank))\n",
    "        self.aux_Unp1.append(torch.rand(layer_width,low_rank, requires_grad=False))\n",
    "        self.aux_Vt.append(torch.narrow(vt, 0, 0, low_rank))\n",
    "        self.aux_Vtnp1.append(torch.rand(low_rank,output_dim, requires_grad=False))\n",
    "        self.aux_N.append(torch.rand(low_rank,low_rank, requires_grad=False))\n",
    "        self.aux_M.append(torch.rand(low_rank,low_rank, requires_grad=False))\n",
    "        self.biases.append(torch.rand(output_dim, requires_grad=True))\n",
    "\n",
    "        with torch.no_grad():\n",
    "            for i in range(0,self.num_layers):\n",
    "                # mark for auto differentiation tape\n",
    "                self.weights_K[i].requires_grad = True\n",
    "                self.weights_Lt[i].requires_grad = True\n",
    "                self.weights_S[i].requires_grad = True\n",
    "                self.aux_U[i].requires_grad = False\n",
    "                self.aux_Vt[i].requires_grad = False\n",
    "                self.aux_N[i].requires_grad = False\n",
    "                self.aux_M[i].requires_grad = False\n",
    "                self.biases[i].requires_grad = True\n",
    "        return None\n",
    "    \n",
    "    def K_step_forward(self,input_tensor:torch.Tensor)->torch.Tensor:\n",
    "        # K-step of DRLA (forward pass)\n",
    "        # prepare  K \n",
    "        with torch.no_grad():\n",
    "            for i in range(0,self.num_layers):\n",
    "                # a) update K\n",
    "                self.weights_K[i] = torch.matmul(self.aux_U[i],self.weights_S[i])\n",
    "                self.weights_K[i].requires_grad = True\n",
    "        z = input_tensor\n",
    "        # pass forward\n",
    "        for i in range(0,self.num_layers-1):\n",
    "            #z = f(xW+b) = f(xKV + b)\n",
    "            z = F.relu(torch.matmul(z,torch.matmul(self.weights_K[i],self.aux_Vt[i])))\n",
    "\n",
    "        return F.log_softmax(torch.matmul(z,torch.matmul(self.weights_K[self.num_layers-1],self.aux_Vt[self.num_layers-1])),-1)\n",
    "    \n",
    "    def K_step_update(self,stepsize:float=1e-3):\n",
    "        # K-step of DRLA (update)\n",
    "        with torch.no_grad():\n",
    "            for i in range(0,self.num_layers):\n",
    "                # gradient update\n",
    "                self.weights_K[i]=self.weights_K[i]- stepsize* self.weights_K[i].grad\n",
    "                self.weights_K[i].requires_grad = True\n",
    "                # Create U\n",
    "                self.aux_Unp1[i],_ = torch.qr(self.weights_K[i])\n",
    "                #print(self.weights_K[i].size())\n",
    "                #print(t.size())\n",
    "                #print(\"unp1\")\n",
    "                #print(self.aux_Unp1[i].size())\n",
    "                #print(\"U\")\n",
    "                #print(self.aux_U[i].size())\n",
    "                #print(\"prod\")\n",
    "                #tmp = torch.matmul(torch.transpose(self.aux_Unp1[i], 0, 1),self.aux_U[i])\n",
    "                #print(tmp.size())\n",
    "                #print(\"____\")\n",
    "                # Create N\n",
    "                self.aux_N[i] = torch.matmul(torch.transpose(self.aux_Unp1[i], 0, 1),self.aux_U[i])\n",
    "        return None\n",
    "    \n",
    "    def L_step_forward(self,input_tensor:torch.Tensor)->torch.Tensor:\n",
    "        # L-step of DLRA (forward)\n",
    "        # prepare  L \n",
    "        with torch.no_grad():\n",
    "            for i in range(0,self.num_layers):\n",
    "                # a) update L\n",
    "                self.weights_Lt[i] = torch.matmul(self.weights_S[i],self.aux_Vt[i]) # L-transpose \n",
    "                self.weights_Lt[i].requires_grad = True\n",
    "        z = input_tensor\n",
    "        # pass forward\n",
    "        for i in range(0,self.num_layers-1):\n",
    "            #z = f(xW+b) = f(xUL + b)\n",
    "            z = F.relu(torch.matmul(z,torch.matmul(self.aux_U[i],self.weights_Lt[i])))\n",
    "        return F.log_softmax(torch.matmul(z,torch.matmul(self.aux_U[self.num_layers-1],self.weights_Lt[self.num_layers-1])),-1) \n",
    "     \n",
    "    def L_step_update(self,stepsize:float=1e-3):\n",
    "        # L-step of DRLA (update)\n",
    "        with torch.no_grad():\n",
    "            for i in range(0,self.num_layers):\n",
    "                # gradient update\n",
    "                self.weights_Lt[i]=self.weights_Lt[i]- stepsize* self.weights_Lt[i].grad\n",
    "                self.weights_Lt[i].requires_grad = True\n",
    "                # Create V_np1\n",
    "                self.aux_Vtnp1[i], _ = torch.qr(torch.transpose(self.weights_Lt[i], 0, 1))\n",
    "                self.aux_Vtnp1[i] = torch.transpose(self.aux_Vtnp1[i], 0, 1)\n",
    "                # Create N\n",
    "                #print(\"S\")\n",
    "                #print(self.weights_S[i].size())\n",
    "                #print(\"V\")\n",
    "                #print(self.aux_Vt[i].size())\n",
    "                #print(\"L\")\n",
    "                #print(self.weighweights_Ltts_L[i].size())\n",
    "                #print(\"Vnp1\")\n",
    "                #print(self.aux_Vtnp1[i].size())\n",
    "                #print(\"V\")\n",
    "                #print(self.aux_Vt[i].size())\n",
    "                #print(\"prod\")\n",
    "                #tmp =  torch.matmul(self.aux_Vtnp1[i],torch.transpose(self.aux_Vt[i], 0, 1))\n",
    "                #print(tmp.size())\n",
    "                #print(\"____\")\n",
    "                self.aux_M[i] = torch.matmul(self.aux_Vtnp1[i],torch.transpose(self.aux_Vt[i], 0, 1)) #Vtnp1*V\n",
    "                # Update U_np1\n",
    "                #self.aux_U[i] = U_np1\n",
    "        return None\n",
    "    \n",
    "    def S_step_forward(self,input_tensor:torch.Tensor)->torch.Tensor:\n",
    "        # S-step of DLRA (forward)\n",
    "        # prepare  S\n",
    "        with torch.no_grad():\n",
    "            for i in range(0,self.num_layers):\n",
    "                # a) update S\n",
    "                self.weights_S[i] = torch.matmul(torch.matmul(self.aux_N[i],self.weights_S[i]),torch.transpose(self.aux_M[i], 0, 1)) # S\n",
    "                self.weights_S[i].requires_grad = True\n",
    "        \n",
    "        z = input_tensor\n",
    "        # pass forward\n",
    "        for i in range(0,self.num_layers-1):\n",
    "            #z = f(xW+b) \\approx f(xUnp1 S Vnp1^T + b)\n",
    "            z = F.relu(torch.matmul(z,torch.matmul(self.aux_Unp1[i],torch.matmul(self.weights_S[i],self.aux_Vtnp1[i]))))\n",
    "        #print(self.W.size())\n",
    "        #print(self.W)\n",
    "        #t = torch.matmul(self.aux_Unp1[self.num_layers-2],torch.matmul(self.weights_S[self.num_layers-2],self.aux_Vtnp1[self.num_layers-2]))\n",
    "        #print(t.size())\n",
    "        #print(t)\n",
    "        #print(\"____\")\n",
    "        return F.log_softmax(torch.matmul(z,torch.matmul(self.aux_Unp1[self.num_layers-1],torch.matmul(self.weights_S[self.num_layers-1],self.aux_Vtnp1[self.num_layers-1]))),-1) \n",
    "     \n",
    "    def S_step_update(self,stepsize:float=1e-3):\n",
    "        # S-step of DRLA (update)\n",
    "        with torch.no_grad():\n",
    "            for i in range(0,self.num_layers):\n",
    "                # gradient update\n",
    "                self.weights_S[i]=self.weights_S[i]- stepsize* self.weights_S[i].grad\n",
    "                self.weights_S[i].requires_grad = True\n",
    "                # update U to Unp1 and V to Vnp1\n",
    "                self.aux_U[i] = self.aux_Unp1[i]\n",
    "                self.aux_Vt[i] = self.aux_Vtnp1[i]\n",
    "        return None\n",
    "    \n",
    "    def clear_grads(self):\n",
    "        #print(\"Clear Grads\")\n",
    "        for i in range(0,self.num_layers):\n",
    "            if self.weights_K[i].grad is not None:\n",
    "                self.weights_K[i].grad.data.zero_()\n",
    "            if self.weights_Lt[i].grad is not None:\n",
    "                self.weights_Lt[i].grad.data.zero_()\n",
    "            if self.weights_S[i].grad is not None:\n",
    "                self.weights_S[i].grad.data.zero_()\n",
    "            if self.aux_U[i].grad is not None:\n",
    "                self.aux_U[i].grad.data.zero_()\n",
    "            if self.aux_Unp1[i].grad is not None:\n",
    "                self.aux_Unp1[i].grad.data.zero_()\n",
    "            if self.aux_Vt[i].grad is not None:\n",
    "                self.aux_Vt[i].grad.data.zero_()\n",
    "            if self.aux_Vtnp1[i].grad is not None:\n",
    "                self.aux_Vtnp1[i].grad.data.zero_()\n",
    "            if self.aux_N[i].grad is not None:\n",
    "                self.aux_N[i].grad.data.zero_()\n",
    "            if self.aux_M[i].grad is not None:\n",
    "                self.aux_M[i].grad.data.zero_()\n",
    "            if self.biases[i].grad is not None:\n",
    "                self.biases[i].grad.data.zero_()\n",
    "        return None\n",
    "        \n",
    "    def print_layer_size(self):\n",
    "         for i in range(0,self.num_layers):\n",
    "            print(\"layer \"+ str(i))\n",
    "            print(\"K\")\n",
    "            print(self.weights_K[i].size())\n",
    "            print(\"Lt\")\n",
    "            print(self.weights_Lt[i].size())\n",
    "            print(\"S\")\n",
    "            print(self.weights_S[i].size())\n",
    "            print(\"U\")\n",
    "            print(self.aux_U[i].size())\n",
    "            print(\"Unp1\")\n",
    "            print(self.aux_Unp1[i].size())\n",
    "            print(\"Vt\")\n",
    "            print(self.aux_Vt[i].size())\n",
    "            print(\"Vtnp1\")\n",
    "            print(self.aux_Vtnp1[i].size())\n",
    "            print(\"N\")\n",
    "            print(self.aux_N[i].size())\n",
    "            print(\"M\")\n",
    "            print(self.aux_M[i].size())\n",
    "            print(\"b\")\n",
    "            print(self.biases[i].size())\n",
    "    \n",
    "    def print_layer_weights(self):\n",
    "        for i in range(0,self.num_layers):\n",
    "            print(\"layer \"+ str(i))\n",
    "            print(\"K\")\n",
    "            print(self.weights_K[i])\n",
    "            print(\"L\")\n",
    "            print(self.weights_Lt[i])\n",
    "            print(\"S\")\n",
    "            print(self.weights_S[i])\n",
    "            print(\"U\")\n",
    "            print(self.aux_U[i])\n",
    "            print(\"Unp1\")\n",
    "            print(self.aux_Unp1[i])\n",
    "            print(\"Vt\")\n",
    "            print(self.aux_Vt[i])\n",
    "            print(\"Vtnp1\")\n",
    "            print(self.aux_Vtnp1[i])\n",
    "            print(\"N\")\n",
    "            print(self.aux_N[i])\n",
    "            print(\"M\")\n",
    "            print(self.aux_M[i])\n",
    "            print(\"b\")\n",
    "            print(self.biases[i])\n",
    "        return None\n",
    "    \n",
    "    def print_weights_K(self):\n",
    "        print(\"K\")\n",
    "        for i in range(0,self.num_layers):\n",
    "            print(\"layer \"+ str(i))\n",
    "            print(self.weights_K[i])\n",
    "            \n",
    "    def print_weights_Lt(self):\n",
    "        print(\"L\")\n",
    "        for i in range(0,self.num_layers):\n",
    "            print(\"layer \"+ str(i))\n",
    "            print(self.weights_Lt[i])\n",
    "            \n",
    "    def print_weights_S(self):\n",
    "        print(\"S\")\n",
    "        for i in range(0,self.num_layers):\n",
    "            print(\"layer \"+ str(i))\n",
    "            print(self.weights_S[i])\n",
    "    \n",
    "    def print_aux_M(self):\n",
    "        print(\"M\")\n",
    "        for i in range(0,self.num_layers):\n",
    "            print(\"layer \"+ str(i))\n",
    "            print(self.aux_M[i])\n",
    "    \n",
    "    def print_aux_N(self):\n",
    "        print(\"N\")\n",
    "        for i in range(0,self.num_layers):\n",
    "            print(\"layer \"+ str(i))\n",
    "            print(self.aux_N[i])\n",
    "    "
   ]
  },
  {
   "cell_type": "code",
   "execution_count": 6,
   "metadata": {},
   "outputs": [
    {
     "name": "stdout",
     "output_type": "stream",
     "text": [
      "input\n"
     ]
    }
   ],
   "source": [
    "## some sanity checks \n",
    "test_net = DLRANet(input_dim=10,output_dim=10,layer_width=10,num_layers=3,low_rank=10)\n",
    "#test_net.print_layer_size()\n",
    "print(\"input\")\n",
    "x = torch.rand(5,10) # random flattened images\n",
    "y = torch.randint(0,9,(5,)) #random labels\n",
    "#print(x)\n",
    "#print(x.size())\n",
    "#print(\"labels\")\n",
    "#print(y.size())"
   ]
  },
  {
   "cell_type": "code",
   "execution_count": 7,
   "metadata": {},
   "outputs": [
    {
     "name": "stdout",
     "output_type": "stream",
     "text": [
      "layer size\n"
     ]
    }
   ],
   "source": [
    "print(\"layer size\")\n",
    "#test_net.print_layer_size()"
   ]
  },
  {
   "cell_type": "code",
   "execution_count": 8,
   "metadata": {},
   "outputs": [
    {
     "name": "stdout",
     "output_type": "stream",
     "text": [
      "layer weights\n"
     ]
    }
   ],
   "source": [
    "print(\"layer weights\")\n",
    "#test_net.print_layer_weights()"
   ]
  },
  {
   "cell_type": "code",
   "execution_count": 9,
   "metadata": {},
   "outputs": [
    {
     "name": "stdout",
     "output_type": "stream",
     "text": [
      "K_step\n",
      "output\n",
      "torch.Size([5, 10])\n",
      "loss\n",
      "torch.Size([])\n",
      "tensor(2.3223, grad_fn=<NllLossBackward>)\n"
     ]
    }
   ],
   "source": [
    "print(\"K_step\")\n",
    "out = test_net.K_step_forward(x)\n",
    "print(\"output\")\n",
    "print(out.size())\n",
    "loss = F.nll_loss(out, y)\n",
    "print(\"loss\")\n",
    "print(loss.size())\n",
    "print(loss)\n",
    "loss.backward()\n",
    "test_net.K_step_update(stepsize=1e-2)\n",
    "test_net.clear_grads()"
   ]
  },
  {
   "cell_type": "code",
   "execution_count": 10,
   "metadata": {},
   "outputs": [
    {
     "name": "stdout",
     "output_type": "stream",
     "text": [
      "L_step_forward\n",
      "output\n",
      "torch.Size([5, 10])\n",
      "loss\n",
      "torch.Size([])\n",
      "tensor(2.3223, grad_fn=<NllLossBackward>)\n"
     ]
    }
   ],
   "source": [
    "print(\"L_step_forward\")\n",
    "out = test_net.L_step_forward(x)\n",
    "print(\"output\")\n",
    "print(out.size())\n",
    "loss = F.nll_loss(out, y)\n",
    "print(\"loss\")\n",
    "print(loss.size())\n",
    "print(loss)\n",
    "loss.backward()\n",
    "test_net.L_step_update(stepsize=1e-2)\n",
    "test_net.clear_grads()"
   ]
  },
  {
   "cell_type": "code",
   "execution_count": 11,
   "metadata": {},
   "outputs": [
    {
     "name": "stdout",
     "output_type": "stream",
     "text": [
      "S_step_forward\n",
      "output\n",
      "torch.Size([5, 10])\n",
      "loss\n",
      "torch.Size([])\n",
      "tensor(2.3223, grad_fn=<NllLossBackward>)\n"
     ]
    }
   ],
   "source": [
    "print(\"S_step_forward\")\n",
    "out = test_net.S_step_forward(x)\n",
    "print(\"output\")\n",
    "print(out.size())\n",
    "loss = F.nll_loss(out, y)\n",
    "print(\"loss\")\n",
    "print(loss.size())\n",
    "print(loss)\n",
    "loss.backward()\n",
    "test_net.S_step_update(stepsize=1e-2)\n",
    "test_net.clear_grads()"
   ]
  },
  {
   "cell_type": "markdown",
   "metadata": {},
   "source": [
    "# Define Network for MNIST"
   ]
  },
  {
   "cell_type": "markdown",
   "metadata": {},
   "source": [
    "In a single training loop, the model makes predictions on the training dataset (fed to it in batches), and\n",
    "backpropagates the prediction error to adjust the model's parameters.\n",
    "\n"
   ]
  },
  {
   "cell_type": "markdown",
   "metadata": {},
   "source": [
    "We also check the model's performance against the test dataset to ensure it is learning.\n",
    "\n"
   ]
  },
  {
   "cell_type": "markdown",
   "metadata": {},
   "source": [
    "The training process is conducted over several iterations (*epochs*). During each epoch, the model learns\n",
    "parameters to make better predictions. We print the model's accuracy and loss at each epoch; we'd like to see the\n",
    "accuracy increase and the loss decrease with every epoch.\n",
    "\n"
   ]
  },
  {
   "cell_type": "markdown",
   "metadata": {},
   "source": [
    "Read more about `Training your model <optimization_tutorial.html>`_.\n",
    "\n",
    "\n"
   ]
  },
  {
   "cell_type": "markdown",
   "metadata": {},
   "source": [
    "--------------\n",
    "\n",
    "\n"
   ]
  },
  {
   "cell_type": "code",
   "execution_count": 17,
   "metadata": {},
   "outputs": [],
   "source": [
    "def test(dataloader, model, loss_fn):\n",
    "    size = len(dataloader.dataset)\n",
    "    num_batches = len(dataloader)\n",
    "    #model.eval()\n",
    "    test_loss, correct = 0, 0\n",
    "    with torch.no_grad():\n",
    "        for X, y in dataloader:\n",
    "            X, y = X.to(device), y.to(device)\n",
    "            x = nn.Flatten()(X)\n",
    "            ## Only S-Step ##\n",
    "            pred = model.S_step_forward(x)\n",
    "            ## L-Step ##\n",
    "            test_loss += F.nll_loss(pred, y).item()\n",
    "            correct += (pred.argmax(1) == y).type(torch.float).sum().item()\n",
    "    test_loss /= num_batches\n",
    "    correct /= size\n",
    "    print(f\"Test Error: \\n Accuracy: {(100*correct):>0.1f}%, Avg loss: {test_loss:>8f} \\n\")"
   ]
  },
  {
   "cell_type": "code",
   "execution_count": 18,
   "metadata": {},
   "outputs": [],
   "source": [
    "def train(dataloader, model, loss_fn,curr_epoch):\n",
    "    size = len(dataloader.dataset)\n",
    "    #model.train()\n",
    "    for batch, (X, y) in enumerate(dataloader):\n",
    "        \n",
    "        X, y = X.to(device), y.to(device)\n",
    "        x = nn.Flatten()(X)\n",
    "       \n",
    "        # Compute prediction error\n",
    "        \n",
    "        ## K-Step ##\n",
    "        #print(\"K-Step\")\n",
    "        out = model.K_step_forward(x)\n",
    "        loss = F.nll_loss(out, y)\n",
    "        #print(loss)\n",
    "        loss.backward()\n",
    "        model.K_step_update(stepsize=1e-2/(curr_epoch))\n",
    "        #model.print_weights_K()\n",
    "        model.clear_grads()\n",
    "        \n",
    "        ## L-Step ##\n",
    "        #print(\"L-Step\")\n",
    "        out = model.L_step_forward(x)\n",
    "        loss = F.nll_loss(out, y)\n",
    "        #print(loss)\n",
    "        loss.backward()\n",
    "        model.L_step_update(stepsize=1e-2/(curr_epoch))\n",
    "        #model.print_weights_Lt()\n",
    "        model.clear_grads()\n",
    "        \n",
    "        ## S-Step ##\n",
    "        #print(\"S-Step\")\n",
    "        out = model.S_step_forward(x)\n",
    "        #model.print_weights_S()\n",
    "\n",
    "        loss = F.nll_loss(out, y)\n",
    "        #print(loss)\n",
    "        loss.backward()\n",
    "        #model.print_weights_S()\n",
    "        #model.print_aux_M()\n",
    "        #model.print_aux_N()\n",
    "        model.S_step_update(stepsize=1e-2/(curr_epoch))\n",
    "        model.clear_grads()\n",
    "        \n",
    "\n",
    "        #print(model.weights[1])\n",
    "        #if batch % 100 == 0:\n",
    "        #    loss, current = loss.item(), batch * len(X)\n",
    "        #    print(f\"loss: {loss:>7f}  [{current:>5d}/{size:>5d}]\")\n"
   ]
  },
  {
   "cell_type": "code",
   "execution_count": 24,
   "metadata": {},
   "outputs": [],
   "source": [
    "## Define network\n",
    "batch_size = 64\n",
    "input_dim = 784\n",
    "output_dim = 10\n",
    "layer_width = 30\n",
    "layer_num = 3\n",
    "low_rank = 10\n",
    "model = DLRANet(input_dim,output_dim,layer_width,layer_num,low_rank)\n",
    "loss_fn =  torch.nn.functional.nll_loss\n"
   ]
  },
  {
   "cell_type": "code",
   "execution_count": 25,
   "metadata": {},
   "outputs": [],
   "source": [
    "# check weight initializations\n",
    "#model.print_layer_size()\n",
    "#model.print_layer_weights()"
   ]
  },
  {
   "cell_type": "code",
   "execution_count": null,
   "metadata": {},
   "outputs": [
    {
     "name": "stdout",
     "output_type": "stream",
     "text": [
      "Epoch 1\n",
      "-------------------------------\n",
      "Test Error: \n",
      " Accuracy: 9.8%, Avg loss: 2.250179 \n",
      "\n",
      "Epoch 2\n",
      "-------------------------------\n",
      "Test Error: \n",
      " Accuracy: 9.8%, Avg loss: 2.116750 \n",
      "\n",
      "Epoch 3\n",
      "-------------------------------\n",
      "Test Error: \n",
      " Accuracy: 9.8%, Avg loss: 2.095636 \n",
      "\n",
      "Epoch 4\n",
      "-------------------------------\n",
      "Test Error: \n",
      " Accuracy: 9.8%, Avg loss: 2.085290 \n",
      "\n",
      "Epoch 5\n",
      "-------------------------------\n",
      "Test Error: \n",
      " Accuracy: 9.8%, Avg loss: 2.077646 \n",
      "\n",
      "Epoch 6\n",
      "-------------------------------\n",
      "Test Error: \n",
      " Accuracy: 9.8%, Avg loss: 2.070265 \n",
      "\n",
      "Epoch 7\n",
      "-------------------------------\n",
      "Test Error: \n",
      " Accuracy: 9.8%, Avg loss: 2.063419 \n",
      "\n",
      "Epoch 8\n",
      "-------------------------------\n",
      "Test Error: \n",
      " Accuracy: 9.8%, Avg loss: 2.057779 \n",
      "\n",
      "Epoch 9\n",
      "-------------------------------\n"
     ]
    }
   ],
   "source": [
    "epochs =100\n",
    "for t in range(epochs):\n",
    "    #model.print_layer_size()\n",
    "    #model.print_layer_weights()\n",
    "    print(f\"Epoch {t+1}\\n-------------------------------\")\n",
    "    train(train_dataloader, model, loss_fn,t+1)\n",
    "    test(test_dataloader, model, loss_fn)\n",
    "print(\"Done!\")"
   ]
  },
  {
   "cell_type": "code",
   "execution_count": null,
   "metadata": {},
   "outputs": [],
   "source": [
    "torch.save(model.state_dict(), \"model.pth\")\n",
    "print(\"Saved PyTorch Model State to model.pth\")"
   ]
  },
  {
   "cell_type": "raw",
   "metadata": {},
   "source": []
  }
 ],
 "metadata": {
  "kernelspec": {
   "display_name": "Python 3",
   "language": "python",
   "name": "python3"
  },
  "language_info": {
   "codemirror_mode": {
    "name": "ipython",
    "version": 3
   },
   "file_extension": ".py",
   "mimetype": "text/x-python",
   "name": "python",
   "nbconvert_exporter": "python",
   "pygments_lexer": "ipython3",
   "version": "3.9.7"
  }
 },
 "nbformat": 4,
 "nbformat_minor": 4
}
