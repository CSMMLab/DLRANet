{
 "cells": [
  {
   "cell_type": "code",
   "execution_count": 1,
   "metadata": {
    "jupyter": {
     "outputs_hidden": false
    }
   },
   "outputs": [],
   "source": [
    "%matplotlib inline"
   ]
  },
  {
   "cell_type": "markdown",
   "metadata": {
    "tags": []
   },
   "source": [
    "\n",
    "`Learn the Basics <intro.html>`_ ||\n",
    "**Quickstart** ||\n",
    "`Tensors <tensorqs_tutorial.html>`_ ||\n",
    "`Datasets & DataLoaders <data_tutorial.html>`_ ||\n",
    "`Transforms <transforms_tutorial.html>`_ ||\n",
    "`Build Model <buildmodel_tutorial.html>`_ ||\n",
    "`Autograd <autogradqs_tutorial.html>`_ ||\n",
    "`Optimization <optimization_tutorial.html>`_ ||\n",
    "`Save & Load Model <saveloadrun_tutorial.html>`_\n",
    "\n",
    "Quickstart\n",
    "===================\n",
    "This section runs through the API for common tasks in machine learning. Refer to the links in each section to dive deeper.\n",
    "\n",
    "Working with data\n",
    "-----------------\n",
    "PyTorch has two `primitives to work with data <https://pytorch.org/docs/stable/data.html>`_:\n",
    "``torch.utils.data.DataLoader`` and ``torch.utils.data.Dataset``.\n",
    "``Dataset`` stores the samples and their corresponding labels, and ``DataLoader`` wraps an iterable around\n",
    "the ``Dataset``.\n",
    "\n",
    "\n"
   ]
  },
  {
   "cell_type": "code",
   "execution_count": 2,
   "metadata": {
    "jupyter": {
     "outputs_hidden": false
    }
   },
   "outputs": [],
   "source": [
    "import torch\n",
    "from torch import nn\n",
    "from torch.utils.data import DataLoader\n",
    "from torchvision import datasets\n",
    "from torchvision.transforms import ToTensor, Lambda, Compose\n",
    "import matplotlib.pyplot as plt\n",
    "import torch.nn.functional as F\n"
   ]
  },
  {
   "cell_type": "markdown",
   "metadata": {},
   "source": [
    "PyTorch offers domain-specific libraries such as `TorchText <https://pytorch.org/text/stable/index.html>`_,\n",
    "`TorchVision <https://pytorch.org/vision/stable/index.html>`_, and `TorchAudio <https://pytorch.org/audio/stable/index.html>`_,\n",
    "all of which include datasets. For this tutorial, we  will be using a TorchVision dataset.\n",
    "\n",
    "The ``torchvision.datasets`` module contains ``Dataset`` objects for many real-world vision data like\n",
    "CIFAR, COCO (`full list here <https://pytorch.org/vision/stable/datasets.html>`_). In this tutorial, we\n",
    "use the FashionMNIST dataset. Every TorchVision ``Dataset`` includes two arguments: ``transform`` and\n",
    "``target_transform`` to modify the samples and labels respectively.\n",
    "\n"
   ]
  },
  {
   "cell_type": "code",
   "execution_count": 3,
   "metadata": {
    "jupyter": {
     "outputs_hidden": false
    }
   },
   "outputs": [],
   "source": [
    "# Download training data from open datasets.\n",
    "training_data = datasets.MNIST(\n",
    "    root=\"data\",\n",
    "    train=True,\n",
    "    download=True,\n",
    "    transform=ToTensor(),\n",
    ")\n",
    "\n",
    "# Download test data from open datasets.\n",
    "test_data = datasets.MNIST(\n",
    "    root=\"data\",\n",
    "    train=False,\n",
    "    download=True,\n",
    "    transform=ToTensor(),\n",
    ")"
   ]
  },
  {
   "cell_type": "markdown",
   "metadata": {},
   "source": [
    "We pass the ``Dataset`` as an argument to ``DataLoader``. This wraps an iterable over our dataset, and supports\n",
    "automatic batching, sampling, shuffling and multiprocess data loading. Here we define a batch size of 64, i.e. each element\n",
    "in the dataloader iterable will return a batch of 64 features and labels.\n",
    "\n"
   ]
  },
  {
   "cell_type": "code",
   "execution_count": 4,
   "metadata": {
    "jupyter": {
     "outputs_hidden": false
    }
   },
   "outputs": [
    {
     "name": "stdout",
     "output_type": "stream",
     "text": [
      "Shape of X [N, C, H, W]:  torch.Size([64, 1, 28, 28])\n",
      "Shape of y:  torch.Size([64]) torch.int64\n"
     ]
    }
   ],
   "source": [
    "batch_size = 64\n",
    "\n",
    "# Create data loaders.\n",
    "train_dataloader = DataLoader(training_data, batch_size=batch_size)\n",
    "test_dataloader = DataLoader(test_data, batch_size=batch_size)\n",
    "\n",
    "for X, y in test_dataloader:\n",
    "    print(\"Shape of X [N, C, H, W]: \", X.shape)\n",
    "    print(\"Shape of y: \", y.shape, y.dtype)\n",
    "    break\n"
   ]
  },
  {
   "cell_type": "markdown",
   "metadata": {},
   "source": [
    "Read more about `loading data in PyTorch <data_tutorial.html>`_.\n",
    "\n",
    "\n"
   ]
  },
  {
   "cell_type": "markdown",
   "metadata": {},
   "source": [
    "--------------\n",
    "\n",
    "\n"
   ]
  },
  {
   "cell_type": "markdown",
   "metadata": {},
   "source": [
    "Creating Models\n",
    "------------------\n",
    "To define a neural network in PyTorch, we create a class that inherits\n",
    "from `nn.Module <https://pytorch.org/docs/stable/generated/torch.nn.Module.html>`_. We define the layers of the network\n",
    "in the ``__init__`` function and specify how data will pass through the network in the ``forward`` function. To accelerate\n",
    "operations in the neural network, we move it to the GPU if available.\n",
    "\n"
   ]
  },
  {
   "cell_type": "markdown",
   "metadata": {},
   "source": [
    "Read more about `building neural networks in PyTorch <buildmodel_tutorial.html>`_.\n",
    "\n",
    "\n"
   ]
  },
  {
   "cell_type": "markdown",
   "metadata": {},
   "source": [
    "--------------\n",
    "\n",
    "\n"
   ]
  },
  {
   "cell_type": "code",
   "execution_count": 5,
   "metadata": {},
   "outputs": [
    {
     "name": "stdout",
     "output_type": "stream",
     "text": [
      "Using cpu device\n",
      "input\n",
      "torch.Size([5, 20])\n",
      "pass\n",
      "output\n",
      "torch.Size([5, 10])\n",
      "loss\n",
      "torch.Size([])\n",
      "tensor(2.1544, grad_fn=<NllLossBackward>)\n",
      "layer size\n"
     ]
    }
   ],
   "source": [
    "# define the network\n",
    "# Get cpu or gpu device for training.\n",
    "device = \"cuda\" if torch.cuda.is_available() else \"cpu\"\n",
    "print(f\"Using {device} device\")\n",
    "\n",
    "import torch\n",
    "class DLRANet(nn.Module):\n",
    "    weights:list[torch.Tensor]\n",
    "    acts:list[torch.nn.ReLU]\n",
    "    biases:list[torch.Tensor]\n",
    "    num_layers:int \n",
    "\n",
    "    def __init__(self,input_dim:int,output_dim:int,layer_width:int,num_layers:int):\n",
    "        self.num_layers = num_layers\n",
    "        self.weights:list[torch.Tensor] = [torch.rand(input_dim,layer_width, requires_grad=True)]\n",
    "        self.biases:list[torch.Tensor] = [torch.rand(layer_width, requires_grad=True)]\n",
    "        self.acts:list[torch.nn.ReLU]=[torch.nn.ReLU()]\n",
    "        for i in range(1,num_layers-1):\n",
    "            self.weights.append(torch.rand(layer_width,layer_width, requires_grad=True))\n",
    "            self.biases.append(torch.rand(layer_width, requires_grad=True))\n",
    "            self.acts.append(torch.nn.ReLU())\n",
    "        self.weights.append(torch.rand(layer_width,output_dim, requires_grad=True))\n",
    "        self.biases.append(torch.rand(output_dim, requires_grad=True))\n",
    "        self.acts.append(torch.nn.Identity()) # last layer with identity output\n",
    "        \n",
    "        # Scale initial weights down: \n",
    "        with torch.no_grad():\n",
    "            for i in range(0,self.num_layers):\n",
    "                self.weights[i]=self.weights[i]/torch.norm(self.weights[i])\n",
    "                self.weights[i].requires_grad = True # mark for differentiation\n",
    "                self.biases[i]=self.biases[i]/torch.norm(self.biases[i])\n",
    "                self.biases[i].requires_grad = True\n",
    "\n",
    "        return None\n",
    "\n",
    "    def forward_pass(self,input_tensor:torch.Tensor)->torch.Tensor:\n",
    "        z = self.acts[0](torch.matmul(input_tensor,self.weights[0]) +self.biases[0])\n",
    "        for i in range(1,self.num_layers-1):\n",
    "            z = self.acts[i](torch.matmul(z,self.weights[i]) + self.biases[i])\n",
    "            #print(z.size())\n",
    "        return  F.log_softmax(torch.matmul(z,self.weights[self.num_layers-1]) + self.biases[self.num_layers-1],-1)\n",
    "    \n",
    "    def update_step(self,stepsize:float=1e-3):\n",
    "        ## assumes loss.backward() is called\n",
    "        with torch.no_grad():\n",
    "            for i in range(0,self.num_layers):\n",
    "                #print(\"update layer \" +str(i))\n",
    "                #print(\"grad W\")\n",
    "                #print(self.weights[i].grad)\n",
    "                #print(\"grad b\")\n",
    "                #print(self.biases[i].grad)\n",
    "                self.weights[i]=self.weights[i]- stepsize* self.weights[i].grad\n",
    "                self.weights[i].requires_grad = True # mark for differentiation\n",
    "                self.biases[i]=self.biases[i]- stepsize* self.biases[i].grad\n",
    "                self.biases[i].requires_grad = True\n",
    "        return None\n",
    "    \n",
    "    def clear_grads(self):\n",
    "        #print(\"Clear Grads\")\n",
    "        for i in range(0,self.num_layers):\n",
    "            if self.weights[i].grad is not None:\n",
    "                self.weights[i].grad.data.zero_()\n",
    "            if self.biases[i].grad is not None:\n",
    "                self.biases[i].grad.data.zero_()\n",
    "        return None\n",
    "        \n",
    "    def print_layer_size(self):\n",
    "         for i in range(0,self.num_layers):\n",
    "            print(self.weights[i].size())\n",
    "            print(self.biases[i].size())\n",
    "    \n",
    "    def print_layer_weights(self):\n",
    "         for i in range(0,self.num_layers):\n",
    "            print(self.weights[i])\n",
    "            print(self.biases[i])\n",
    "    \n",
    "        \n",
    "\n",
    "## some sanity checks \n",
    "test_net = DLRANet(20,10,30,4)\n",
    "#test_net.print_layer_size()\n",
    "print(\"input\")\n",
    "x = torch.rand(5,20)\n",
    "y = torch.randint(0,9,(5,))\n",
    "#print(x)\n",
    "print(x.size())\n",
    "print(\"pass\")\n",
    "out = test_net.forward_pass(x)\n",
    "print(\"output\")\n",
    "print(out.size())\n",
    "loss = F.nll_loss(out, y)\n",
    "print(\"loss\")\n",
    "print(loss.size())\n",
    "print(loss)\n",
    "\n",
    "print(\"layer size\")\n",
    "#test_net.print_layer_size()\n"
   ]
  },
  {
   "cell_type": "code",
   "execution_count": 6,
   "metadata": {},
   "outputs": [],
   "source": [
    "## get loss function and optimizer\n",
    "batch_size = 64\n",
    "input_dim = 784\n",
    "output_dim = 10\n",
    "layer_width = 30\n",
    "layer_num = 3\n",
    "model = DLRANet(input_dim,output_dim,layer_width,layer_num)\n",
    "loss_fn =  torch.nn.functional.nll_loss\n"
   ]
  },
  {
   "cell_type": "markdown",
   "metadata": {},
   "source": [
    "In a single training loop, the model makes predictions on the training dataset (fed to it in batches), and\n",
    "backpropagates the prediction error to adjust the model's parameters.\n",
    "\n"
   ]
  },
  {
   "cell_type": "markdown",
   "metadata": {},
   "source": [
    "We also check the model's performance against the test dataset to ensure it is learning.\n",
    "\n"
   ]
  },
  {
   "cell_type": "markdown",
   "metadata": {},
   "source": [
    "The training process is conducted over several iterations (*epochs*). During each epoch, the model learns\n",
    "parameters to make better predictions. We print the model's accuracy and loss at each epoch; we'd like to see the\n",
    "accuracy increase and the loss decrease with every epoch.\n",
    "\n"
   ]
  },
  {
   "cell_type": "markdown",
   "metadata": {},
   "source": [
    "Read more about `Training your model <optimization_tutorial.html>`_.\n",
    "\n",
    "\n"
   ]
  },
  {
   "cell_type": "markdown",
   "metadata": {},
   "source": [
    "--------------\n",
    "\n",
    "\n"
   ]
  },
  {
   "cell_type": "code",
   "execution_count": 7,
   "metadata": {},
   "outputs": [],
   "source": [
    "def test(dataloader, model, loss_fn):\n",
    "    size = len(dataloader.dataset)\n",
    "    num_batches = len(dataloader)\n",
    "    #model.eval()\n",
    "    test_loss, correct = 0, 0\n",
    "    with torch.no_grad():\n",
    "        for X, y in dataloader:\n",
    "            X, y = X.to(device), y.to(device)\n",
    "            x = nn.Flatten()(X)\n",
    "            pred = model.forward_pass(x)\n",
    "            test_loss += F.nll_loss(pred, y).item()\n",
    "            correct += (pred.argmax(1) == y).type(torch.float).sum().item()\n",
    "    test_loss /= num_batches\n",
    "    correct /= size\n",
    "    print(f\"Test Error: \\n Accuracy: {(100*correct):>0.1f}%, Avg loss: {test_loss:>8f} \\n\")"
   ]
  },
  {
   "cell_type": "code",
   "execution_count": 8,
   "metadata": {},
   "outputs": [],
   "source": [
    "def train(dataloader, model, loss_fn, curr_epoch):\n",
    "    size = len(dataloader.dataset)\n",
    "    #model.train()\n",
    "    for batch, (X, y) in enumerate(dataloader):\n",
    "        \n",
    "        X, y = X.to(device), y.to(device)\n",
    "        x = nn.Flatten()(X)\n",
    "       \n",
    "        # Compute prediction error\n",
    "        pred = model.forward_pass(x)\n",
    "        loss = F.nll_loss(pred, y)\n",
    "\n",
    "        # Backpropagation\n",
    "        #optimizer.zero_grad()\n",
    "        loss.backward()\n",
    "        model.update_step(stepsize=1e-2/(curr_epoch))\n",
    "        model.clear_grads()\n",
    "        #print(model.weights[1])\n",
    "        #if batch % 100 == 0:\n",
    "        #    loss, current = loss.item(), batch * len(X)\n",
    "        #    print(f\"loss: {loss:>7f}  [{current:>5d}/{size:>5d}]\")\n"
   ]
  },
  {
   "cell_type": "code",
   "execution_count": null,
   "metadata": {},
   "outputs": [
    {
     "name": "stdout",
     "output_type": "stream",
     "text": [
      "Epoch 1\n",
      "-------------------------------\n",
      "Test Error: \n",
      " Accuracy: 23.1%, Avg loss: 2.146312 \n",
      "\n",
      "Epoch 2\n",
      "-------------------------------\n",
      "Test Error: \n",
      " Accuracy: 26.4%, Avg loss: 2.010594 \n",
      "\n",
      "Epoch 3\n",
      "-------------------------------\n",
      "Test Error: \n",
      " Accuracy: 28.9%, Avg loss: 1.918908 \n",
      "\n",
      "Epoch 4\n",
      "-------------------------------\n",
      "Test Error: \n",
      " Accuracy: 34.1%, Avg loss: 1.837125 \n",
      "\n",
      "Epoch 5\n",
      "-------------------------------\n",
      "Test Error: \n",
      " Accuracy: 42.5%, Avg loss: 1.730807 \n",
      "\n",
      "Epoch 6\n",
      "-------------------------------\n",
      "Test Error: \n",
      " Accuracy: 47.1%, Avg loss: 1.595098 \n",
      "\n",
      "Epoch 7\n",
      "-------------------------------\n",
      "Test Error: \n",
      " Accuracy: 49.2%, Avg loss: 1.472437 \n",
      "\n",
      "Epoch 8\n",
      "-------------------------------\n",
      "Test Error: \n",
      " Accuracy: 52.4%, Avg loss: 1.384665 \n",
      "\n",
      "Epoch 9\n",
      "-------------------------------\n",
      "Test Error: \n",
      " Accuracy: 54.0%, Avg loss: 1.324389 \n",
      "\n",
      "Epoch 10\n",
      "-------------------------------\n",
      "Test Error: \n",
      " Accuracy: 55.0%, Avg loss: 1.279953 \n",
      "\n",
      "Epoch 11\n",
      "-------------------------------\n",
      "Test Error: \n",
      " Accuracy: 56.2%, Avg loss: 1.244018 \n",
      "\n",
      "Epoch 12\n",
      "-------------------------------\n",
      "Test Error: \n",
      " Accuracy: 57.5%, Avg loss: 1.212806 \n",
      "\n",
      "Epoch 13\n",
      "-------------------------------\n",
      "Test Error: \n",
      " Accuracy: 58.7%, Avg loss: 1.184363 \n",
      "\n",
      "Epoch 14\n",
      "-------------------------------\n",
      "Test Error: \n",
      " Accuracy: 60.1%, Avg loss: 1.157678 \n",
      "\n",
      "Epoch 15\n",
      "-------------------------------\n",
      "Test Error: \n",
      " Accuracy: 61.2%, Avg loss: 1.132293 \n",
      "\n",
      "Epoch 16\n",
      "-------------------------------\n",
      "Test Error: \n",
      " Accuracy: 62.3%, Avg loss: 1.108056 \n",
      "\n",
      "Epoch 17\n",
      "-------------------------------\n",
      "Test Error: \n",
      " Accuracy: 63.0%, Avg loss: 1.084934 \n",
      "\n",
      "Epoch 18\n",
      "-------------------------------\n",
      "Test Error: \n",
      " Accuracy: 64.1%, Avg loss: 1.062963 \n",
      "\n",
      "Epoch 19\n",
      "-------------------------------\n",
      "Test Error: \n",
      " Accuracy: 65.1%, Avg loss: 1.042173 \n",
      "\n",
      "Epoch 20\n",
      "-------------------------------\n",
      "Test Error: \n",
      " Accuracy: 66.1%, Avg loss: 1.022561 \n",
      "\n",
      "Epoch 21\n",
      "-------------------------------\n",
      "Test Error: \n",
      " Accuracy: 66.6%, Avg loss: 1.004100 \n",
      "\n",
      "Epoch 22\n",
      "-------------------------------\n",
      "Test Error: \n",
      " Accuracy: 67.4%, Avg loss: 0.986708 \n",
      "\n",
      "Epoch 23\n",
      "-------------------------------\n",
      "Test Error: \n",
      " Accuracy: 68.1%, Avg loss: 0.970304 \n",
      "\n",
      "Epoch 24\n",
      "-------------------------------\n",
      "Test Error: \n",
      " Accuracy: 68.9%, Avg loss: 0.954761 \n",
      "\n",
      "Epoch 25\n",
      "-------------------------------\n",
      "Test Error: \n",
      " Accuracy: 69.5%, Avg loss: 0.939979 \n",
      "\n",
      "Epoch 26\n",
      "-------------------------------\n",
      "Test Error: \n",
      " Accuracy: 70.1%, Avg loss: 0.925861 \n",
      "\n",
      "Epoch 27\n",
      "-------------------------------\n",
      "Test Error: \n",
      " Accuracy: 70.7%, Avg loss: 0.912304 \n",
      "\n",
      "Epoch 28\n",
      "-------------------------------\n",
      "Test Error: \n",
      " Accuracy: 71.1%, Avg loss: 0.899223 \n",
      "\n",
      "Epoch 29\n",
      "-------------------------------\n",
      "Test Error: \n",
      " Accuracy: 71.5%, Avg loss: 0.886554 \n",
      "\n",
      "Epoch 30\n",
      "-------------------------------\n"
     ]
    }
   ],
   "source": [
    "epochs = 2000\n",
    "for t in range(epochs):\n",
    "    print(f\"Epoch {t+1}\\n-------------------------------\")\n",
    "    train(train_dataloader, model, loss_fn,t+1)\n",
    "    test(test_dataloader, model, loss_fn)\n",
    "print(\"Done!\")"
   ]
  },
  {
   "cell_type": "code",
   "execution_count": null,
   "metadata": {},
   "outputs": [],
   "source": [
    "torch.save(model.state_dict(), \"model.pth\")\n",
    "print(\"Saved PyTorch Model State to model.pth\")"
   ]
  },
  {
   "cell_type": "raw",
   "metadata": {},
   "source": []
  }
 ],
 "metadata": {
  "kernelspec": {
   "display_name": "Python 3",
   "language": "python",
   "name": "python3"
  },
  "language_info": {
   "codemirror_mode": {
    "name": "ipython",
    "version": 3
   },
   "file_extension": ".py",
   "mimetype": "text/x-python",
   "name": "python",
   "nbconvert_exporter": "python",
   "pygments_lexer": "ipython3",
   "version": "3.9.7"
  }
 },
 "nbformat": 4,
 "nbformat_minor": 4
}
